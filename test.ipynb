{
 "cells": [
  {
   "cell_type": "code",
   "execution_count": 4,
   "metadata": {},
   "outputs": [
    {
     "name": "stdout",
     "output_type": "stream",
     "text": [
      "Defaulting to user installation because normal site-packages is not writeable\n",
      "Collecting Theano==0.9\n",
      "  Downloading Theano-0.9.0.tar.gz (3.1 MB)\n",
      "     ---------------------------------------- 3.1/3.1 MB 5.9 MB/s eta 0:00:00\n",
      "  Preparing metadata (setup.py): started\n",
      "  Preparing metadata (setup.py): finished with status 'done'\n",
      "Requirement already satisfied: numpy>=1.9.1 in c:\\users\\tondz\\appdata\\roaming\\python\\python39\\site-packages (from Theano==0.9) (1.23.1)\n",
      "Requirement already satisfied: scipy>=0.14 in c:\\users\\tondz\\appdata\\roaming\\python\\python39\\site-packages (from Theano==0.9) (1.8.1)\n",
      "Requirement already satisfied: six>=1.9.0 in c:\\users\\tondz\\appdata\\roaming\\python\\python39\\site-packages (from Theano==0.9) (1.16.0)\n",
      "Building wheels for collected packages: Theano\n",
      "  Building wheel for Theano (setup.py): started\n",
      "  Building wheel for Theano (setup.py): finished with status 'done'\n",
      "  Created wheel for Theano: filename=Theano-0.9.0-py3-none-any.whl size=2971699 sha256=d69c9f2da226983ded557ac21bb4f0080c7fab4562487b5b78bb33fc2ff48291\n",
      "  Stored in directory: c:\\users\\tondz\\appdata\\local\\pip\\cache\\wheels\\da\\8a\\ac\\0c1005eba9f985e137b2388fd5a037c85f301aa842456507cc\n",
      "Successfully built Theano\n",
      "Installing collected packages: Theano\n",
      "Successfully installed Theano-0.9.0\n"
     ]
    },
    {
     "name": "stderr",
     "output_type": "stream",
     "text": [
      "WARNING: You are using pip version 22.0.4; however, version 22.3.1 is available.\n",
      "You should consider upgrading via the 'C:\\Program Files\\Python39\\python.exe -m pip install --upgrade pip' command.\n"
     ]
    },
    {
     "name": "stdout",
     "output_type": "stream",
     "text": [
      "Defaulting to user installation because normal site-packages is not writeable\n",
      "Collecting https://github.com/Lasagne/Lasagne/archive/master.zip\n",
      "  Downloading https://github.com/Lasagne/Lasagne/archive/master.zip\n",
      "     | 232.0 kB 914.0 kB/s 0:00:00\n",
      "  Preparing metadata (setup.py): started\n",
      "  Preparing metadata (setup.py): finished with status 'done'\n",
      "Requirement already satisfied: numpy in c:\\users\\tondz\\appdata\\roaming\\python\\python39\\site-packages (from Lasagne==0.2.dev1) (1.23.1)\n",
      "Building wheels for collected packages: Lasagne\n",
      "  Building wheel for Lasagne (setup.py): started\n",
      "  Building wheel for Lasagne (setup.py): finished with status 'done'\n",
      "  Created wheel for Lasagne: filename=Lasagne-0.2.dev1-py3-none-any.whl size=122805 sha256=457dd2368ce0591b4971e52989a309131adf8c2c83688345d3e4489e1f932d5a\n",
      "  Stored in directory: C:\\Users\\TonDZ\\AppData\\Local\\Temp\\pip-ephem-wheel-cache-3ssro8eu\\wheels\\07\\c0\\de\\4506ee2cba3b1ff8a275c3293eebc5d2a689c57042a45e64de\n",
      "Successfully built Lasagne\n",
      "Installing collected packages: Lasagne\n",
      "Successfully installed Lasagne-0.2.dev1\n"
     ]
    },
    {
     "name": "stderr",
     "output_type": "stream",
     "text": [
      "WARNING: You are using pip version 22.0.4; however, version 22.3.1 is available.\n",
      "You should consider upgrading via the 'C:\\Program Files\\Python39\\python.exe -m pip install --upgrade pip' command.\n"
     ]
    }
   ],
   "source": [
    "!pip install \"Theano==0.9\"\n",
    "!pip install https://github.com/Lasagne/Lasagne/archive/master.zip"
   ]
  },
  {
   "cell_type": "code",
   "execution_count": 5,
   "metadata": {},
   "outputs": [
    {
     "name": "stderr",
     "output_type": "stream",
     "text": [
      "Cloning into 'sigver_wiwd'...\n"
     ]
    }
   ],
   "source": [
    "!git clone https://github.com/luizgh/sigver_wiwd.git"
   ]
  },
  {
   "cell_type": "code",
   "execution_count": 1,
   "metadata": {},
   "outputs": [],
   "source": [
    "import sys\n",
    "sys.path.append('./sigver_wiwd/')"
   ]
  },
  {
   "cell_type": "code",
   "execution_count": 2,
   "metadata": {},
   "outputs": [],
   "source": [
    "import numpy as np\n",
    "import cv2\n",
    "from preprocess.normalize import preprocess_signature\n",
    "import signet\n",
    "from cnn_model import CNNModel\n",
    "from sklearn.metrics.pairwise import cosine_similarity\n",
    "\n",
    "\n",
    "# Load image and HSV color threshold\n",
    "\n",
    "\n",
    "def get_mask(path):\n",
    "    image = cv2.imread(path)\n",
    "    hsv = cv2.cvtColor(image, cv2.COLOR_BGR2HSV)\n",
    "    lower = np.array([90, 38, 0])\n",
    "    upper = np.array([145, 255, 255])\n",
    "    mask = cv2.inRange(hsv, lower, upper)\n",
    "    return mask\n",
    "def get_features(mask):\n",
    "    # Maximum signature size (required for the SigNet models):\n",
    "    canvas_size = (952, 1360)  \n",
    "\n",
    "    # Load and pre-process the signature\n",
    "\n",
    "    processed = preprocess_signature(mask, canvas_size)\n",
    "\n",
    "    # Load the model\n",
    "    model_weight_path = 'models/signet.pkl'\n",
    "    model = CNNModel(signet, model_weight_path)\n",
    "\n",
    "    # Use the CNN to extract features\n",
    "    feature_vector = model.get_feature_vector(processed)\n",
    "    return feature_vector\n",
    "def similar_vector(vector1,vector2):\n",
    "    return cosine_similarity(vector1, vector2)\n"
   ]
  },
  {
   "cell_type": "code",
   "execution_count": 3,
   "metadata": {},
   "outputs": [],
   "source": [
    "mask1 = get_mask('data/chien.png')\n",
    "mask2 = get_mask('data/cuong.png')"
   ]
  },
  {
   "cell_type": "code",
   "execution_count": null,
   "metadata": {},
   "outputs": [],
   "source": [
    "vector1 = get_features(mask1)\n",
    "vector2 = get_features(mask2)"
   ]
  }
 ],
 "metadata": {
  "kernelspec": {
   "display_name": "Python 3.9.13 64-bit",
   "language": "python",
   "name": "python3"
  },
  "language_info": {
   "codemirror_mode": {
    "name": "ipython",
    "version": 3
   },
   "file_extension": ".py",
   "mimetype": "text/x-python",
   "name": "python",
   "nbconvert_exporter": "python",
   "pygments_lexer": "ipython3",
   "version": "3.9.13"
  },
  "orig_nbformat": 4,
  "vscode": {
   "interpreter": {
    "hash": "11938c6bc6919ae2720b4d5011047913343b08a43b18698fd82dedb0d4417594"
   }
  }
 },
 "nbformat": 4,
 "nbformat_minor": 2
}
